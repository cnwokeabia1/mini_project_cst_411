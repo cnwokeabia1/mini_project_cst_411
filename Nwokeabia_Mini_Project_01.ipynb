{
 "cells": [
  {
   "cell_type": "markdown",
   "metadata": {},
   "source": [
    "## Mini-Project 1 - Monte Carlo Simulation of Radioactive Decay"
   ]
  },
  {
   "cell_type": "markdown",
   "metadata": {},
   "source": [
    "#### A radioactive isotope is an atom that has excess nuclear energy, making it unstable. This excess energy causes the atom to breakdown in a process called radioactive decay. For more information see [this Wikipedia article](https://en.wikipedia.org/wiki/Radionuclide).\n",
    "\n",
    "#### If we have a sample of radioactive isotopes, the \"radioactive half-life\" is the time it takes for half the atoms in the sample to decay. \"Radioactive half-life\" is often shortened to just \"half-life\". After two half-lives, there will be one fourth the original sample, after three half-lives one eigth the original sample, and so forth. For example: \n",
    "![alt text](http://hyperphysics.phy-astr.gsu.edu/hbase/Nuclear/imgnuc/hlcurv.gif)\n",
    "\n",
    "##### Image credit: http://hyperphysics.phy-astr.gsu.edu/hbase/Nuclear/halfli.html#c1\n"
   ]
  },
  {
   "cell_type": "markdown",
   "metadata": {},
   "source": [
    "Different elements have different half-lives. For example, the half-life of uranium-238 is 4.5 billion years. The half-life of plutonium-239 is 24,100 years and the half-life of thallium-201 is 73.1 hours. Given a container of thallium-201, half of the atoms will decay in 73.1 hours. Given a same size container of uranium-238, it will take 4.5 billion years before half the atoms decay.\n",
    "\n",
    "The half-life of an element doesn't change. However, which atoms in the container actually decay is a truly random process. For any given atom, there is a probability of decay. The probability of decay is given by a constant times the time step. For example, element X has a decay rate, alpha, of 0.01 s<sup>-1</sup>. The probability of a particular atom decaying in 1 second is: probability = 0.01 * 1 = 0.01\n",
    "\n",
    "1.) Write a Monte Carlo simulation to simulate the decay of 100 atoms of element X with a time step of 1 second. Run your simulation for 300 seconds. Graph the number of remaining atoms at each 1 second time step.\n",
    "\n",
    "We can also solve the decay rate analytically. At each time step, the number of atoms remaining (not decayed), N, is given by: \n",
    "N = (original number of atoms in sample)*e<sup>-y</sup> where y = alpha * number of elapsed seconds. For example, after 1 second: y = -0.01 * 1 = -0.01 and \n",
    "N = 100 * e<sup>-0.01</sup>. \n",
    "After 2 seconds, y = -0.01 * 2 = -0.02 and\n",
    "N = 100 * e<sup>-0.02</sup>, etc., etc.\n",
    "\n",
    "Plot the analytical solution on top of the Monte Carlo solution. In other words, make a single panel plot with the two results plotted on top of each other. Not a multi-panel plot."
   ]
  },
  {
   "cell_type": "code",
   "execution_count": 25,
   "metadata": {},
   "outputs": [],
   "source": [
    "import numpy as np\n",
    "import matplotlib.pyplot as plt"
   ]
  },
  {
   "cell_type": "code",
   "execution_count": 47,
   "metadata": {},
   "outputs": [
    {
     "name": "stdout",
     "output_type": "stream",
     "text": [
      "Final number of atoms remaining: 5\n"
     ]
    }
   ],
   "source": [
    "# code here\n",
    "#simulation 100 atoms\n",
    "fin = []\n",
    "atoms = 100\n",
    "\n",
    "#loop for 300 seconds\n",
    "for i in range(300):\n",
    "    for x in range(atoms):\n",
    "        decay = np.random.random()\n",
    "        #if the random number generated \n",
    "        if (decay <= 0.01):\n",
    "            atoms = atoms - 1\n",
    "    fin.append(atoms)\n",
    "    #print(\"Timestep: \", i+1, \" Number of atoms remaining: \", atoms,)\n",
    "\n",
    "print ('Final number of atoms remaining:', fin[-1])"
   ]
  },
  {
   "cell_type": "code",
   "execution_count": 3,
   "metadata": {},
   "outputs": [
    {
     "name": "stdout",
     "output_type": "stream",
     "text": [
      "Final number of atoms remaining: 5.0287436723591865\n"
     ]
    }
   ],
   "source": [
    "#analytic calculation\n",
    "final = []\n",
    "atoms2 = 100\n",
    "\n",
    "#looping, yay (for 300 seconds)\n",
    "for i in range(300):\n",
    "    N = (atoms2)*np.exp(0.01*-i)\n",
    "    final.append(N)\n",
    "    #print(N)\n",
    "    \n",
    "print('Final number of atoms remaining:', final[-1])"
   ]
  },
  {
   "cell_type": "code",
   "execution_count": 82,
   "metadata": {},
   "outputs": [
    {
     "data": {
      "text/plain": [
       "Text(0,0.5,'Number of Atoms')"
      ]
     },
     "execution_count": 82,
     "metadata": {},
     "output_type": "execute_result"
    },
    {
     "data": {
      "image/png": "[encoded data removed]",
      "text/plain": [
       "<Figure size 432x288 with 1 Axes>"
      ]
     },
     "metadata": {},
     "output_type": "display_data"
    }
   ],
   "source": [
    "#visualization\n",
    "# inline plotting\n",
    "%matplotlib inline \n",
    "\n",
    "#actual plotting\n",
    "plt.plot(fin)\n",
    "plt.plot(final)\n",
    "plt.title('Monte Carlo Simulation vs Analytical (100 trials)')\n",
    "plt.xlabel('Time')\n",
    "plt.ylabel('Number of Atoms')\n",
    "#plt.ylim(40, 60)"
   ]
  },
  {
   "cell_type": "markdown",
   "metadata": {},
   "source": [
    "2.) Does your Monte Carlo simulation agree with the analytical solution? What does the Monte Carlo simulation say is the half-life of element X? What does the analytical solution say is the half-life of element X?"
   ]
  },
  {
   "cell_type": "markdown",
   "metadata": {},
   "source": [
    "## The simulation does seem to agree with the analytical solution. The half life is 52s for the Monte Carlo simulation, while for the analytical solution, the half-life is around 70s"
   ]
  },
  {
   "cell_type": "markdown",
   "metadata": {},
   "source": [
    "3.) Let's try again, but this time with 5,000 atoms in our sample. Repeat question 1. with 5,000 atoms (same alpha, same time step, same probability, same 300 second simulation, just a larger sample of atoms)"
   ]
  },
  {
   "cell_type": "code",
   "execution_count": 42,
   "metadata": {},
   "outputs": [],
   "source": [
    "# code here\n",
    "#simulation\n",
    "fin_2 = []\n",
    "atoms3 = 5000\n",
    "dec = 0\n",
    "\n",
    "#loop for 300 seconds\n",
    "for i in range(300):\n",
    "    for x in range(atoms3):\n",
    "        decay = np.random.random()\n",
    "        #if the random number generated \n",
    "        if (decay <= 0.01):\n",
    "            atoms3 = atoms3 - 1\n",
    "            dec = dec + 1\n",
    "    fin_2.append(atoms3)\n",
    "    #print(\"Timestep: \", i+1, \" Number of atoms remaining: \", atoms,)\n"
   ]
  },
  {
   "cell_type": "code",
   "execution_count": 45,
   "metadata": {},
   "outputs": [],
   "source": [
    "#analytic calculation\n",
    "final_2 = []\n",
    "atoms4 = 5000\n",
    "\n",
    "#looping, yay (for 300 seconds)\n",
    "for i in range(300):\n",
    "    L = (atoms4)*np.exp(0.01*-i)\n",
    "    final_2.append(L)\n",
    "    #print(N)\n",
    "    \n",
    "#print('Final number of atoms remaining:', final_2[-1])"
   ]
  },
  {
   "cell_type": "code",
   "execution_count": 50,
   "metadata": {},
   "outputs": [
    {
     "data": {
      "text/plain": [
       "Text(0,0.5,'Number of Atoms')"
      ]
     },
     "execution_count": 50,
     "metadata": {},
     "output_type": "execute_result"
    },
    {
     "data": {
      "image/png": "[encoded data removed]",
      "text/plain": [
       "<Figure size 432x288 with 1 Axes>"
      ]
     },
     "metadata": {},
     "output_type": "display_data"
    }
   ],
   "source": [
    "#actual plotting\n",
    "plt.plot(fin_2)\n",
    "plt.plot(final_2)\n",
    "plt.title('Monte Carlo Simulation vs Analytical (5000 trials)')\n",
    "plt.xlabel('Time')\n",
    "plt.ylabel('Number of Atoms')"
   ]
  },
  {
   "cell_type": "markdown",
   "metadata": {},
   "source": [
    "4.) How do the results compare with 5,000 atoms in our sample? Why do you think this is?"
   ]
  },
  {
   "cell_type": "markdown",
   "metadata": {},
   "source": [
    "### The results for the simulation seems to be very similar to each other when compared to the 100 atom sample. This may be due to the fact that there are more iterations. With more iterations of the simulations, the closer the results will be to the theoretical result we calculated in Question 3."
   ]
  },
  {
   "cell_type": "markdown",
   "metadata": {},
   "source": [
    "5.) Modify your simulation to keep track of how many decays happen in every 10-second window. For each scenario (the 100 atom sample and the 5,000 atom sample) run the simulation 1000 times. Make a histogram for each scenario showing the distribution of decays per 10-second window.\n",
    "\n",
    "Running the two simulation 1000 time each may take 2 to 3 minutes. It's recommended that you place the histogram code in a separate cell from the simulations. This way, you can update the histograms without having to re-run the simulations.\n",
    "\n",
    "You may find it easier to write your simulation as a function and call it twice - once with 100 atoms and a second time with 5000 atoms"
   ]
  },
  {
   "cell_type": "code",
   "execution_count": 95,
   "metadata": {},
   "outputs": [],
   "source": [
    "# code here\n",
    "#simulation 100 atoms\n",
    "def aaaah():\n",
    "    sim_ends = []\n",
    "    atoms = 100\n",
    "    dec = []\n",
    "    dec10 = []\n",
    "\n",
    "    #loop for 300 seconds\n",
    "    for i in range(300):\n",
    "        decaying = 0\n",
    "        for x in range(atoms):\n",
    "            decay = np.random.random()\n",
    "\n",
    "            if (decay <= 0.01):\n",
    "                atoms = atoms - 1\n",
    "                decaying += 1\n",
    "                dec.append(decaying)\n",
    "        if len(dec) == 10:\n",
    "            s = sum(dec)\n",
    "            dec10.append(s)\n",
    "            dec = [] \n",
    "    return dec10\n",
    "\n",
    "the_end = []                    \n",
    "for x in range(1000):\n",
    "    dec10 = aaaah()\n",
    "    the_end.extend(dec10)\n",
    "    "
   ]
  },
  {
   "cell_type": "code",
   "execution_count": 97,
   "metadata": {},
   "outputs": [],
   "source": [
    "# code here\n",
    "#simulation 5000 atoms\n",
    "\n",
    "def leedle():\n",
    "    sim_ending = []\n",
    "    atoms2 = 5000\n",
    "    dec = []\n",
    "    dec10 = []\n",
    "\n",
    "    #loop for 300 seconds\n",
    "    for i in range(300):\n",
    "        decaying2 = 0\n",
    "        for x in range(atoms2):\n",
    "            decay = np.random.random()\n",
    "\n",
    "            if (decay <= 0.01):\n",
    "                atoms2 = atoms2 - 1\n",
    "                decaying2 += 1\n",
    "        dec.append(decaying2)\n",
    "        if len(dec) == 10:\n",
    "            s = sum(dec)\n",
    "            dec10.append(s)\n",
    "            dec = []\n",
    "    return dec10\n",
    "\n",
    "derp = []\n",
    "for x in range(1000):\n",
    "    dec10 = leedle()\n",
    "    derp.extend(dec10)"
   ]
  },
  {
   "cell_type": "code",
   "execution_count": 96,
   "metadata": {},
   "outputs": [
    {
     "data": {
      "text/plain": [
       "Text(0,0.5,'Frequency')"
      ]
     },
     "execution_count": 96,
     "metadata": {},
     "output_type": "execute_result"
    },
    {
     "data": {
      "image/png": "[encoded data removed]",
      "text/plain": [
       "<Figure size 432x288 with 1 Axes>"
      ]
     },
     "metadata": {},
     "output_type": "display_data"
    }
   ],
   "source": [
    "# histograms here\n",
    "plt.hist(the_end)\n",
    "plt.title('Ten Second Decays: 100 Trials')\n",
    "plt.xlabel('Number of Decays')\n",
    "plt.ylabel('Frequency')"
   ]
  },
  {
   "cell_type": "code",
   "execution_count": 98,
   "metadata": {},
   "outputs": [
    {
     "data": {
      "text/plain": [
       "Text(0,0.5,'Frequency')"
      ]
     },
     "execution_count": 98,
     "metadata": {},
     "output_type": "execute_result"
    },
    {
     "data": {
      "image/png": "[encoded data removed]",
      "text/plain": [
       "<Figure size 432x288 with 1 Axes>"
      ]
     },
     "metadata": {},
     "output_type": "display_data"
    }
   ],
   "source": [
    "\n",
    "plt.hist(derp)\n",
    "plt.title('Ten Second Decays: 5000 Trials')\n",
    "plt.xlabel('Number of Decays')\n",
    "plt.ylabel('Frequency')"
   ]
  },
  {
   "cell_type": "markdown",
   "metadata": {},
   "source": [
    "##### 6.) The probability of a certain number of atoms decaying in a time window can be solve analytically as: \n",
    "\n",
    "p = [ (alpha * n * T)<sup>n</sup> * e<sup>-alpha * n * T</sup> ] / n!\n",
    "\n",
    "where T is the time window (10 seconds in our case), n is the number of atoms decaying, and alpha is our decay rate from earlier (0.01). What is the probability of 5 atoms decaying in 10 seconds?"
   ]
  },
  {
   "cell_type": "code",
   "execution_count": 13,
   "metadata": {},
   "outputs": [
    {
     "data": {
      "text/plain": [
       "0.0001579506926334983"
      ]
     },
     "execution_count": 13,
     "metadata": {},
     "output_type": "execute_result"
    }
   ],
   "source": [
    "# code here\n",
    "np.power((0.01*5*10),5) *np.exp(-0.01*5*10)/(5*4*3*2*1)"
   ]
  },
  {
   "cell_type": "markdown",
   "metadata": {},
   "source": [
    "7.) How many times did 5 atoms actually decay in our simulations? Hint: if you have an list you can use the count() function to find number of occurances. For example, if we have a list named x and we'd like to find how many times 5 occurs, we can do: print(x.count(5))"
   ]
  },
  {
   "cell_type": "code",
   "execution_count": 100,
   "metadata": {},
   "outputs": [
    {
     "name": "stdout",
     "output_type": "stream",
     "text": [
      "100 trials:  0\n",
      "5000 trials:  0\n"
     ]
    }
   ],
   "source": [
    "# code here\n",
    "#have to change size of the bins\n",
    "print('100 trials: ', the_end.count(5))\n",
    "print('5000 trials: ', derp.count(5))"
   ]
  }
 ],
 "metadata": {
  "kernelspec": {
   "display_name": "Python 3",
   "language": "python",
   "name": "python3"
  },
  "language_info": {
   "codemirror_mode": {
    "name": "ipython",
    "version": 3
   },
   "file_extension": ".py",
   "mimetype": "text/x-python",
   "name": "python",
   "nbconvert_exporter": "python",
   "pygments_lexer": "ipython3",
   "version": "3.5.2"
  }
 },
 "nbformat": 4,
 "nbformat_minor": 2
}
